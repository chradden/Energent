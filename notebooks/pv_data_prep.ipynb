{
 "cells": [
  {
   "cell_type": "code",
   "execution_count": 1,
   "id": "4c305bfd",
   "metadata": {},
   "outputs": [],
   "source": [
    "import polars as pl \n",
    "import requests"
   ]
  },
  {
   "cell_type": "code",
   "execution_count": 22,
   "id": "35cf109f",
   "metadata": {},
   "outputs": [
    {
     "data": {
      "text/html": [
       "<div><style>\n",
       ".dataframe > thead > tr,\n",
       ".dataframe > tbody > tr {\n",
       "  text-align: right;\n",
       "  white-space: pre-wrap;\n",
       "}\n",
       "</style>\n",
       "<small>shape: (5, 2)</small><table border=\"1\" class=\"dataframe\"><thead><tr><th>date_time</th><th>pv_electricity(kW)</th></tr><tr><td>datetime[μs]</td><td>f64</td></tr></thead><tbody><tr><td>2024-01-01 00:00:00</td><td>0.0</td></tr><tr><td>2024-01-01 00:15:00</td><td>0.0</td></tr><tr><td>2024-01-01 00:30:00</td><td>0.0</td></tr><tr><td>2024-01-01 00:45:00</td><td>0.0</td></tr><tr><td>2024-01-01 01:00:00</td><td>0.0</td></tr></tbody></table></div>"
      ],
      "text/plain": [
       "shape: (5, 2)\n",
       "┌─────────────────────┬────────────────────┐\n",
       "│ date_time           ┆ pv_electricity(kW) │\n",
       "│ ---                 ┆ ---                │\n",
       "│ datetime[μs]        ┆ f64                │\n",
       "╞═════════════════════╪════════════════════╡\n",
       "│ 2024-01-01 00:00:00 ┆ 0.0                │\n",
       "│ 2024-01-01 00:15:00 ┆ 0.0                │\n",
       "│ 2024-01-01 00:30:00 ┆ 0.0                │\n",
       "│ 2024-01-01 00:45:00 ┆ 0.0                │\n",
       "│ 2024-01-01 01:00:00 ┆ 0.0                │\n",
       "└─────────────────────┴────────────────────┘"
      ]
     },
     "execution_count": 22,
     "metadata": {},
     "output_type": "execute_result"
    }
   ],
   "source": [
    "## read orig csv file, hardcode to this file\n",
    "df = pl.read_csv(\"../data/historical_Data/PV-electricity_2024_01_01.csv\", skip_lines=3, has_header=False, separator=\";\", new_columns=[\"date_time\", \"pv_electricity(kW)\"], decimal_comma=True)\n",
    "## convert date_time to datetime, other to numeric\n",
    "df = df.with_columns(\n",
    "    pl.col(\"date_time\").str.to_datetime(\"%d.%m.%Y %H:%M\")\n",
    ")\n",
    "df.head()"
   ]
  },
  {
   "cell_type": "code",
   "execution_count": null,
   "id": "0e38a6e4",
   "metadata": {},
   "outputs": [
    {
     "data": {
      "text/html": [
       "<div><style>\n",
       ".dataframe > thead > tr,\n",
       ".dataframe > tbody > tr {\n",
       "  text-align: right;\n",
       "  white-space: pre-wrap;\n",
       "}\n",
       "</style>\n",
       "<small>shape: (13_295, 2)</small><table border=\"1\" class=\"dataframe\"><thead><tr><th>date_time</th><th>pv_electricity(kW)</th></tr><tr><td>datetime[μs]</td><td>f64</td></tr></thead><tbody><tr><td>2024-01-01 00:00:00</td><td>0.0</td></tr><tr><td>2024-01-01 01:00:00</td><td>0.0</td></tr><tr><td>2024-01-01 02:00:00</td><td>0.0</td></tr><tr><td>2024-01-01 03:00:00</td><td>0.0</td></tr><tr><td>2024-01-01 04:00:00</td><td>0.0</td></tr><tr><td>&hellip;</td><td>&hellip;</td></tr><tr><td>2025-07-07 20:00:00</td><td>3.3075</td></tr><tr><td>2025-07-07 21:00:00</td><td>0.586012</td></tr><tr><td>2025-07-07 22:00:00</td><td>0.0</td></tr><tr><td>2025-07-07 23:00:00</td><td>0.0</td></tr><tr><td>2025-07-08 00:00:00</td><td>0.0</td></tr></tbody></table></div>"
      ],
      "text/plain": [
       "shape: (13_295, 2)\n",
       "┌─────────────────────┬────────────────────┐\n",
       "│ date_time           ┆ pv_electricity(kW) │\n",
       "│ ---                 ┆ ---                │\n",
       "│ datetime[μs]        ┆ f64                │\n",
       "╞═════════════════════╪════════════════════╡\n",
       "│ 2024-01-01 00:00:00 ┆ 0.0                │\n",
       "│ 2024-01-01 01:00:00 ┆ 0.0                │\n",
       "│ 2024-01-01 02:00:00 ┆ 0.0                │\n",
       "│ 2024-01-01 03:00:00 ┆ 0.0                │\n",
       "│ 2024-01-01 04:00:00 ┆ 0.0                │\n",
       "│ …                   ┆ …                  │\n",
       "│ 2025-07-07 20:00:00 ┆ 3.3075             │\n",
       "│ 2025-07-07 21:00:00 ┆ 0.586012           │\n",
       "│ 2025-07-07 22:00:00 ┆ 0.0                │\n",
       "│ 2025-07-07 23:00:00 ┆ 0.0                │\n",
       "│ 2025-07-08 00:00:00 ┆ 0.0                │\n",
       "└─────────────────────┴────────────────────┘"
      ]
     },
     "execution_count": 52,
     "metadata": {},
     "output_type": "execute_result"
    }
   ],
   "source": [
    "## downsample to hourly data\n",
    "df = df.sort(\"date_time\")\n",
    "df = df.group_by_dynamic(\"date_time\", every=\"1h\").agg(pl.col(\"pv_electricity(kW)\").mean())"
   ]
  },
  {
   "cell_type": "code",
   "execution_count": 53,
   "id": "e19f3be5",
   "metadata": {},
   "outputs": [
    {
     "name": "stdout",
     "output_type": "stream",
     "text": [
      "{'azimuth': np.float64(2.9575346136447305), 'altitude': np.float64(-1.0336211802887731)}\n"
     ]
    }
   ],
   "source": [
    "## get sun position\n",
    "from suncalc import get_position\n",
    "\n",
    "lat= 53.5511\n",
    "lon= 9.9937\n",
    "date_time = df[\"date_time\"].to_list()[0]\n",
    "sun_pos = get_position(date_time, lng=lon, lat=lat)\n",
    "print(sun_pos)"
   ]
  },
  {
   "cell_type": "code",
   "execution_count": 54,
   "id": "b75e7dc0",
   "metadata": {},
   "outputs": [
    {
     "name": "stderr",
     "output_type": "stream",
     "text": [
      "/tmp/ipykernel_14649/1301019818.py:2: MapWithoutReturnDtypeWarning: Calling `map_elements` without specifying `return_dtype` can lead to unpredictable results. Specify `return_dtype` to silence this warning.\n",
      "  df = df.with_columns(\n"
     ]
    }
   ],
   "source": [
    "## calculate sun position for every timestamp\n",
    "df = df.with_columns(\n",
    "    pl.col(\"date_time\").map_elements(lambda x: get_position(x, lng=lon, lat=lat)).alias(\"sun_position\")\n",
    ")\n"
   ]
  },
  {
   "cell_type": "code",
   "execution_count": 55,
   "id": "23a10301",
   "metadata": {},
   "outputs": [
    {
     "data": {
      "text/html": [
       "<div><style>\n",
       ".dataframe > thead > tr,\n",
       ".dataframe > tbody > tr {\n",
       "  text-align: right;\n",
       "  white-space: pre-wrap;\n",
       "}\n",
       "</style>\n",
       "<small>shape: (5, 4)</small><table border=\"1\" class=\"dataframe\"><thead><tr><th>date_time</th><th>pv_electricity(kW)</th><th>azimuth</th><th>altitude</th></tr><tr><td>datetime[μs]</td><td>f64</td><td>f64</td><td>f64</td></tr></thead><tbody><tr><td>2024-01-01 00:00:00</td><td>0.0</td><td>2.957535</td><td>-1.033621</td></tr><tr><td>2024-01-01 00:15:00</td><td>0.0</td><td>3.075297</td><td>-1.038464</td></tr><tr><td>2024-01-01 00:30:00</td><td>0.0</td><td>-3.089233</td><td>-1.038721</td></tr><tr><td>2024-01-01 00:45:00</td><td>0.0</td><td>-2.971291</td><td>-1.034387</td></tr><tr><td>2024-01-01 01:00:00</td><td>0.0</td><td>-2.855597</td><td>-1.025577</td></tr></tbody></table></div>"
      ],
      "text/plain": [
       "shape: (5, 4)\n",
       "┌─────────────────────┬────────────────────┬───────────┬───────────┐\n",
       "│ date_time           ┆ pv_electricity(kW) ┆ azimuth   ┆ altitude  │\n",
       "│ ---                 ┆ ---                ┆ ---       ┆ ---       │\n",
       "│ datetime[μs]        ┆ f64                ┆ f64       ┆ f64       │\n",
       "╞═════════════════════╪════════════════════╪═══════════╪═══════════╡\n",
       "│ 2024-01-01 00:00:00 ┆ 0.0                ┆ 2.957535  ┆ -1.033621 │\n",
       "│ 2024-01-01 00:15:00 ┆ 0.0                ┆ 3.075297  ┆ -1.038464 │\n",
       "│ 2024-01-01 00:30:00 ┆ 0.0                ┆ -3.089233 ┆ -1.038721 │\n",
       "│ 2024-01-01 00:45:00 ┆ 0.0                ┆ -2.971291 ┆ -1.034387 │\n",
       "│ 2024-01-01 01:00:00 ┆ 0.0                ┆ -2.855597 ┆ -1.025577 │\n",
       "└─────────────────────┴────────────────────┴───────────┴───────────┘"
      ]
     },
     "execution_count": 55,
     "metadata": {},
     "output_type": "execute_result"
    }
   ],
   "source": [
    "\n",
    "df = df.with_columns(\n",
    "    pl.col(\"sun_position\").struct.unnest()\n",
    ")\n",
    "df = df.drop([\"sun_position\"])\n",
    "df.head()"
   ]
  },
  {
   "cell_type": "code",
   "execution_count": null,
   "id": "6df74f0e",
   "metadata": {},
   "outputs": [],
   "source": []
  },
  {
   "cell_type": "code",
   "execution_count": null,
   "id": "6b47b5dd",
   "metadata": {},
   "outputs": [],
   "source": []
  }
 ],
 "metadata": {
  "kernelspec": {
   "display_name": ".venv",
   "language": "python",
   "name": "python3"
  },
  "language_info": {
   "codemirror_mode": {
    "name": "ipython",
    "version": 3
   },
   "file_extension": ".py",
   "mimetype": "text/x-python",
   "name": "python",
   "nbconvert_exporter": "python",
   "pygments_lexer": "ipython3",
   "version": "3.10.12"
  }
 },
 "nbformat": 4,
 "nbformat_minor": 5
}
